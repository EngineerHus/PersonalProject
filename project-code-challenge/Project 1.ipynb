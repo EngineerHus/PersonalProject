{
 "cells": [
  {
   "cell_type": "code",
   "execution_count": 15,
   "metadata": {},
   "outputs": [
    {
     "name": "stdout",
     "output_type": "stream",
     "text": [
      "906609\n"
     ]
    }
   ],
   "source": [
    "#Challenge 1\n",
    "#First, define function reverse string, to get a reverse version of a converted integer\n",
    "#As three-digit number, so, range from 100 to 1000 (not inclusive 1000)\n",
    "#create two loops,i first, then j.\n",
    "#multiple running j with every i, and check whether the reverse one is the same as non-reverse after converting from int to str\n",
    "#if yes, put inside the list, and then get the max number from the list\n",
    "\n",
    "\n",
    "def revrsstr(str):\n",
    "    return str[::-1]\n",
    "\n",
    "lst =[]\n",
    "\n",
    "for i in range (100,1000):\n",
    "    for j in range(100,1000):\n",
    "        value = i*j\n",
    "        strvalue = str(value)\n",
    "        if strvalue == revrsstr(strvalue):\n",
    "            lst.append(value)\n",
    "            \n",
    "print(max(lst))\n",
    "    "
   ]
  },
  {
   "cell_type": "code",
   "execution_count": 28,
   "metadata": {},
   "outputs": [
    {
     "name": "stdout",
     "output_type": "stream",
     "text": [
      "277050\n"
     ]
    }
   ],
   "source": [
    "#Challenge 2\n",
    "#create one variable to accumulate number - sumvalue\n",
    "#create loop 1 to run from 2 to 2000\n",
    "#crate loop 2 to run from 2 to i only (number less than i)\n",
    "#if anynumber (j) is divisible by i, then it is not a prime number\n",
    "#so the second loop will break, and 2nd loop run again\n",
    "#if second loop run to the end, and nothing match the if condition\n",
    "#then this is a prime number, so add it into the sumvalue\n",
    "\n",
    "sumvalue =0\n",
    "\n",
    "\n",
    "for i in range(2,2000):\n",
    "    for j in range(2, i):\n",
    "        if (i%j==0):\n",
    "            break\n",
    "    else:\n",
    "        sumvalue+=i\n",
    "            \n",
    "print(sumvalue)       \n",
    "    "
   ]
  },
  {
   "cell_type": "code",
   "execution_count": 11,
   "metadata": {},
   "outputs": [
    {
     "name": "stdout",
     "output_type": "stream",
     "text": [
      "233168\n"
     ]
    }
   ],
   "source": [
    "#Challenge 3\n",
    "\n",
    "#accumvalue is the increasing number. \n",
    "#Loop the number from 1 to 1000, \n",
    "#if the number is a multiple of 3 and 5, then the number is increased by the current number i\n",
    "\n",
    "accumvalue = 0\n",
    "\n",
    "for i in range(1,1000):\n",
    "    if (i%3==0 or i%5==0):\n",
    "        accumvalue += i\n",
    "print(accumvalue)"
   ]
  },
  {
   "cell_type": "code",
   "execution_count": 36,
   "metadata": {},
   "outputs": [
    {
     "name": "stdout",
     "output_type": "stream",
     "text": [
      "AaBbCCddd\n",
      "A1a1B1b1C2\n"
     ]
    }
   ],
   "source": [
    "#Challenge 4\n",
    "#1st: user input and convert to string\n",
    "#2nd: create one list, the current letter, and count varible with the min of 1\n",
    "#3rd: create one loop to run from 1 to the length of string\n",
    "#if current value of position is the same with current letter, then count = count +1\n",
    "#if not, then we assign that letter to the list, with the number of count\n",
    "#then reset the count to 1, and also assign the current letter to the value of current index\n",
    "#the loop keep running until out of range\n",
    "#we got our list, but, with different items. So, we need to join it with delimiter ''\n",
    "\n",
    "string = str(input())\n",
    "mylist =[]\n",
    "curletter = string[0]\n",
    "count =1\n",
    "\n",
    "for i in range(1,len(string)):\n",
    "    if (string[i] == curletter):\n",
    "        count +=1\n",
    "    else:\n",
    "        mylist.append(curletter + str(count) )\n",
    "        count =1\n",
    "        curletter = string[i]\n",
    "mylist = ''.join(mylist)\n",
    "print(mylist)\n",
    "            \n",
    "    "
   ]
  },
  {
   "cell_type": "code",
   "execution_count": 2,
   "metadata": {},
   "outputs": [
    {
     "name": "stdout",
     "output_type": "stream",
     "text": [
      "Fizz\n",
      "Buzz\n",
      "Fizz\n",
      "Fizz\n",
      "Buzz\n",
      "Fizz\n",
      "FizzBuzz\n",
      "Fizz\n",
      "Fizz\n",
      "Buzz\n",
      "Fizz\n",
      "Fizz\n",
      "Buzz\n",
      "Fizz\n",
      "FizzBuzz\n",
      "Fizz\n",
      "Fizz\n",
      "Buzz\n",
      "Fizz\n",
      "Fizz\n",
      "Buzz\n",
      "Fizz\n",
      "FizzBuzz\n",
      "Fizz\n",
      "Fizz\n",
      "Buzz\n",
      "Fizz\n",
      "Fizz\n",
      "Buzz\n",
      "Fizz\n",
      "FizzBuzz\n",
      "Fizz\n",
      "Fizz\n",
      "Buzz\n",
      "Fizz\n",
      "Fizz\n",
      "Buzz\n",
      "Fizz\n",
      "FizzBuzz\n",
      "Fizz\n",
      "Fizz\n",
      "Buzz\n",
      "Fizz\n",
      "Fizz\n",
      "Buzz\n",
      "Fizz\n",
      "FizzBuzz\n",
      "Fizz\n",
      "Fizz\n",
      "Buzz\n",
      "Fizz\n",
      "Fizz\n"
     ]
    }
   ],
   "source": [
    "#Bonus Challenge\n",
    "#for each number from 1 to 100 (loop), it will check whether the number divide the by 3 will have the remamining of 0.\n",
    "#if yes, then return Fizz. This is similar to number 5 for Buzz.\n",
    "#if both condition met, divided by both 3 and 5, return FizzBuzz\n",
    "\n",
    "\n",
    "for i in range (1,100):\n",
    "    if (i%3==0 and i%5==0):\n",
    "        print (\"FizzBuzz\")\n",
    "    if (i%3==0):\n",
    "        print(\"Fizz\")\n",
    "    elif (i%5==0):\n",
    "        print (\"Buzz\")"
   ]
  },
  {
   "cell_type": "code",
   "execution_count": null,
   "metadata": {},
   "outputs": [],
   "source": []
  },
  {
   "cell_type": "code",
   "execution_count": null,
   "metadata": {},
   "outputs": [],
   "source": []
  }
 ],
 "metadata": {
  "kernelspec": {
   "display_name": "Python 3",
   "language": "python",
   "name": "python3"
  },
  "language_info": {
   "codemirror_mode": {
    "name": "ipython",
    "version": 3
   },
   "file_extension": ".py",
   "mimetype": "text/x-python",
   "name": "python",
   "nbconvert_exporter": "python",
   "pygments_lexer": "ipython3",
   "version": "3.7.6"
  }
 },
 "nbformat": 4,
 "nbformat_minor": 4
}
